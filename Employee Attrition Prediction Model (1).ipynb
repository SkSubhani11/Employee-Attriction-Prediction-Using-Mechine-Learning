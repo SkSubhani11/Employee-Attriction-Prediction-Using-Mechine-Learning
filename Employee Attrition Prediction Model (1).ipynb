{
 "cells": [
  {
   "cell_type": "code",
   "execution_count": 127,
   "metadata": {
    "colab": {
     "base_uri": "https://localhost:8080/"
    },
    "executionInfo": {
     "elapsed": 9,
     "status": "ok",
     "timestamp": 1718002211935,
     "user": {
      "displayName": "Ritika Gada",
      "userId": "16686458212324230885"
     },
     "user_tz": -330
    },
    "id": "QGGpC2BAqImH",
    "outputId": "19fa5fff-6945-4403-9015-3320359b9642"
   },
   "outputs": [],
   "source": [
    "import pandas as pd\n",
    "import numpy as np\n",
    "import matplotlib.pyplot as plt\n",
    "import seaborn as sns\n",
    "from sklearn.model_selection import train_test_split\n",
    "from sklearn.preprocessing import StandardScaler\n",
    "from sklearn.linear_model import LogisticRegression\n",
    "from sklearn.metrics import classification_report, confusion_matrix, accuracy_score"
   ]
  },
  {
   "cell_type": "code",
   "execution_count": 128,
   "metadata": {},
   "outputs": [],
   "source": [
    "employeeAttritionPrediction = pd.read_csv(r\"C:\\Users\\subha\\Documents\\employeeAttritionPrediction_output.csv\")\n"
   ]
  },
  {
   "cell_type": "code",
   "execution_count": 129,
   "metadata": {},
   "outputs": [
    {
     "data": {
      "text/plain": [
       "['employee_id',\n",
       " 'employee_age',\n",
       " 'employee_gender',\n",
       " 'department',\n",
       " 'job_role',\n",
       " 'monthly_income',\n",
       " 'years_at_company',\n",
       " 'years_in_current_role',\n",
       " 'actual_conversion',\n",
       " 'predicted_conversion']"
      ]
     },
     "execution_count": 129,
     "metadata": {},
     "output_type": "execute_result"
    }
   ],
   "source": [
    "columns = employeeAttritionPrediction.columns.tolist()\n",
    "columns"
   ]
  },
  {
   "cell_type": "code",
   "execution_count": 130,
   "metadata": {},
   "outputs": [],
   "source": [
    "employeeAttritionPrediction.rename(columns={\"attrition\": \"actual_conversion\"}, inplace=True)"
   ]
  },
  {
   "cell_type": "code",
   "execution_count": 131,
   "metadata": {},
   "outputs": [
    {
     "data": {
      "text/plain": [
       "actual_conversion\n",
       "0    403\n",
       "1    398\n",
       "Name: count, dtype: int64"
      ]
     },
     "execution_count": 131,
     "metadata": {},
     "output_type": "execute_result"
    }
   ],
   "source": [
    "employeeAttritionPrediction['actual_conversion'].value_counts()"
   ]
  },
  {
   "cell_type": "code",
   "execution_count": 132,
   "metadata": {},
   "outputs": [
    {
     "data": {
      "text/html": [
       "<div>\n",
       "<style scoped>\n",
       "    .dataframe tbody tr th:only-of-type {\n",
       "        vertical-align: middle;\n",
       "    }\n",
       "\n",
       "    .dataframe tbody tr th {\n",
       "        vertical-align: top;\n",
       "    }\n",
       "\n",
       "    .dataframe thead th {\n",
       "        text-align: right;\n",
       "    }\n",
       "</style>\n",
       "<table border=\"1\" class=\"dataframe\">\n",
       "  <thead>\n",
       "    <tr style=\"text-align: right;\">\n",
       "      <th></th>\n",
       "      <th>employee_id</th>\n",
       "      <th>employee_age</th>\n",
       "      <th>employee_gender</th>\n",
       "      <th>department</th>\n",
       "      <th>job_role</th>\n",
       "      <th>monthly_income</th>\n",
       "      <th>years_at_company</th>\n",
       "      <th>years_in_current_role</th>\n",
       "      <th>actual_conversion</th>\n",
       "      <th>predicted_conversion</th>\n",
       "    </tr>\n",
       "  </thead>\n",
       "  <tbody>\n",
       "    <tr>\n",
       "      <th>0</th>\n",
       "      <td>2231</td>\n",
       "      <td>NaN</td>\n",
       "      <td>NaN</td>\n",
       "      <td>NaN</td>\n",
       "      <td>NaN</td>\n",
       "      <td>142144</td>\n",
       "      <td>NaN</td>\n",
       "      <td>NaN</td>\n",
       "      <td>1</td>\n",
       "      <td>1</td>\n",
       "    </tr>\n",
       "    <tr>\n",
       "      <th>1</th>\n",
       "      <td>669</td>\n",
       "      <td>NaN</td>\n",
       "      <td>NaN</td>\n",
       "      <td>NaN</td>\n",
       "      <td>NaN</td>\n",
       "      <td>127383</td>\n",
       "      <td>NaN</td>\n",
       "      <td>NaN</td>\n",
       "      <td>1</td>\n",
       "      <td>1</td>\n",
       "    </tr>\n",
       "    <tr>\n",
       "      <th>2</th>\n",
       "      <td>3619</td>\n",
       "      <td>19.0</td>\n",
       "      <td>0.0</td>\n",
       "      <td>3.0</td>\n",
       "      <td>2.0</td>\n",
       "      <td>31343</td>\n",
       "      <td>13.0</td>\n",
       "      <td>4.0</td>\n",
       "      <td>0</td>\n",
       "      <td>1</td>\n",
       "    </tr>\n",
       "    <tr>\n",
       "      <th>3</th>\n",
       "      <td>2364</td>\n",
       "      <td>NaN</td>\n",
       "      <td>NaN</td>\n",
       "      <td>NaN</td>\n",
       "      <td>NaN</td>\n",
       "      <td>85124</td>\n",
       "      <td>NaN</td>\n",
       "      <td>NaN</td>\n",
       "      <td>0</td>\n",
       "      <td>1</td>\n",
       "    </tr>\n",
       "    <tr>\n",
       "      <th>4</th>\n",
       "      <td>143</td>\n",
       "      <td>NaN</td>\n",
       "      <td>-1.0</td>\n",
       "      <td>-1.0</td>\n",
       "      <td>-1.0</td>\n",
       "      <td>89895</td>\n",
       "      <td>NaN</td>\n",
       "      <td>NaN</td>\n",
       "      <td>0</td>\n",
       "      <td>1</td>\n",
       "    </tr>\n",
       "  </tbody>\n",
       "</table>\n",
       "</div>"
      ],
      "text/plain": [
       "   employee_id  employee_age  employee_gender  department  job_role  \\\n",
       "0         2231           NaN              NaN         NaN       NaN   \n",
       "1          669           NaN              NaN         NaN       NaN   \n",
       "2         3619          19.0              0.0         3.0       2.0   \n",
       "3         2364           NaN              NaN         NaN       NaN   \n",
       "4          143           NaN             -1.0        -1.0      -1.0   \n",
       "\n",
       "   monthly_income  years_at_company  years_in_current_role  actual_conversion  \\\n",
       "0          142144               NaN                    NaN                  1   \n",
       "1          127383               NaN                    NaN                  1   \n",
       "2           31343              13.0                    4.0                  0   \n",
       "3           85124               NaN                    NaN                  0   \n",
       "4           89895               NaN                    NaN                  0   \n",
       "\n",
       "   predicted_conversion  \n",
       "0                     1  \n",
       "1                     1  \n",
       "2                     1  \n",
       "3                     1  \n",
       "4                     1  "
      ]
     },
     "execution_count": 132,
     "metadata": {},
     "output_type": "execute_result"
    }
   ],
   "source": [
    "\n",
    "employeeAttritionPrediction.head()"
   ]
  },
  {
   "cell_type": "code",
   "execution_count": 133,
   "metadata": {},
   "outputs": [
    {
     "name": "stdout",
     "output_type": "stream",
     "text": [
      "Missing values in the dataset:\n",
      "employee_id                0\n",
      "employee_age             674\n",
      "employee_gender          624\n",
      "department               624\n",
      "job_role                 624\n",
      "monthly_income             0\n",
      "years_at_company         674\n",
      "years_in_current_role    674\n",
      "actual_conversion          0\n",
      "predicted_conversion       0\n",
      "dtype: int64\n"
     ]
    }
   ],
   "source": [
    "# Check for missing values\n",
    "print(\"Missing values in the dataset:\")\n",
    "print(employeeAttritionPrediction.isnull().sum())"
   ]
  },
  {
   "cell_type": "code",
   "execution_count": 134,
   "metadata": {},
   "outputs": [
    {
     "name": "stdout",
     "output_type": "stream",
     "text": [
      "Basic statistics of the dataset:\n",
      "       employee_id  employee_age  employee_gender  department    job_role  \\\n",
      "count    801.00000    127.000000       177.000000  177.000000  177.000000   \n",
      "mean    1971.66417     40.149606         0.096045    1.214689    0.813559   \n",
      "std     1180.68952     14.507294         0.809627    1.888725    1.486392   \n",
      "min        2.00000     18.000000        -1.000000   -1.000000   -1.000000   \n",
      "25%      928.00000     26.500000        -1.000000   -1.000000   -1.000000   \n",
      "50%     1975.00000     41.000000         0.000000    1.000000    1.000000   \n",
      "75%     3014.00000     52.500000         1.000000    3.000000    2.000000   \n",
      "max     4002.00000     65.000000         1.000000    4.000000    3.000000   \n",
      "\n",
      "       monthly_income  years_at_company  years_in_current_role  \\\n",
      "count      801.000000        127.000000             127.000000   \n",
      "mean     90435.353308         10.952756               5.267717   \n",
      "std      34484.586774          5.570413               2.685791   \n",
      "min      30164.000000          1.000000               1.000000   \n",
      "25%      59329.000000          6.000000               3.000000   \n",
      "50%      90120.000000         11.000000               5.000000   \n",
      "75%     119234.000000         16.000000               8.000000   \n",
      "max     149784.000000         20.000000              10.000000   \n",
      "\n",
      "       actual_conversion  predicted_conversion  \n",
      "count         801.000000                 801.0  \n",
      "mean            0.496879                   1.0  \n",
      "std             0.500303                   0.0  \n",
      "min             0.000000                   1.0  \n",
      "25%             0.000000                   1.0  \n",
      "50%             0.000000                   1.0  \n",
      "75%             1.000000                   1.0  \n",
      "max             1.000000                   1.0  \n"
     ]
    }
   ],
   "source": [
    "# Display basic statistics of the dataset\n",
    "print(\"Basic statistics of the dataset:\")\n",
    "print(employeeAttritionPrediction.describe())"
   ]
  },
  {
   "cell_type": "code",
   "execution_count": 135,
   "metadata": {},
   "outputs": [
    {
     "name": "stdout",
     "output_type": "stream",
     "text": [
      "Conversion rate in the dataset:\n",
      "actual_conversion\n",
      "0    0.503121\n",
      "1    0.496879\n",
      "Name: proportion, dtype: float64\n"
     ]
    }
   ],
   "source": [
    "# Check for class imbalance\n",
    "print(\"Conversion rate in the dataset:\")\n",
    "print(employeeAttritionPrediction['actual_conversion'].value_counts(normalize=True))\n"
   ]
  },
  {
   "cell_type": "code",
   "execution_count": 136,
   "metadata": {},
   "outputs": [
    {
     "name": "stdout",
     "output_type": "stream",
     "text": [
      "Data types of each column:\n",
      "employee_id                int64\n",
      "employee_age             float64\n",
      "employee_gender          float64\n",
      "department               float64\n",
      "job_role                 float64\n",
      "monthly_income             int64\n",
      "years_at_company         float64\n",
      "years_in_current_role    float64\n",
      "actual_conversion          int64\n",
      "predicted_conversion       int64\n",
      "dtype: object\n"
     ]
    }
   ],
   "source": [
    "# Display data types of each column\n",
    "print(\"Data types of each column:\")\n",
    "print(employeeAttritionPrediction.dtypes)"
   ]
  },
  {
   "cell_type": "code",
   "execution_count": 137,
   "metadata": {},
   "outputs": [
    {
     "data": {
      "image/png": "[encoded data removed]",
      "text/plain": [
       "<Figure size 1000x600 with 1 Axes>"
      ]
     },
     "metadata": {},
     "output_type": "display_data"
    }
   ],
   "source": [
    "# Plot the distribution of numeric features\n",
    "plt.figure(figsize=(10, 6))\n",
    "sns.histplot(employeeAttritionPrediction['monthly_income'], kde=True)\n",
    "plt.title('Distribution of Monthly Income')\n",
    "plt.show()"
   ]
  },
  {
   "cell_type": "code",
   "execution_count": 138,
   "metadata": {},
   "outputs": [
    {
     "data": {
      "text/plain": [
       "['employee_id',\n",
       " 'employee_age',\n",
       " 'employee_gender',\n",
       " 'department',\n",
       " 'job_role',\n",
       " 'monthly_income',\n",
       " 'years_at_company',\n",
       " 'years_in_current_role',\n",
       " 'actual_conversion',\n",
       " 'predicted_conversion']"
      ]
     },
     "execution_count": 138,
     "metadata": {},
     "output_type": "execute_result"
    }
   ],
   "source": [
    "columns = employeeAttritionPrediction.columns.tolist()\n",
    "columns"
   ]
  },
  {
   "cell_type": "code",
   "execution_count": 139,
   "metadata": {},
   "outputs": [
    {
     "name": "stdout",
     "output_type": "stream",
     "text": [
      "Data types of each column:\n",
      "employee_id                int64\n",
      "employee_age             float64\n",
      "employee_gender          float64\n",
      "department               float64\n",
      "job_role                 float64\n",
      "monthly_income             int64\n",
      "years_at_company         float64\n",
      "years_in_current_role    float64\n",
      "actual_conversion          int64\n",
      "predicted_conversion       int64\n",
      "dtype: object\n"
     ]
    }
   ],
   "source": [
    "# Display data types of each column\n",
    "print(\"Data types of each column:\")\n",
    "print(employeeAttritionPrediction.dtypes)"
   ]
  },
  {
   "cell_type": "code",
   "execution_count": 140,
   "metadata": {},
   "outputs": [],
   "source": [
    "# Encode categorical variables\n",
    "employeeAttritionPrediction['employee_gender'] = employeeAttritionPrediction['employee_gender'].astype('category').cat.codes\n",
    "employeeAttritionPrediction['department'] = employeeAttritionPrediction['department'].astype('category').cat.codes\n",
    "employeeAttritionPrediction['job_role'] = employeeAttritionPrediction['job_role'].astype('category').cat.codes\n"
   ]
  },
  {
   "cell_type": "code",
   "execution_count": 141,
   "metadata": {},
   "outputs": [
    {
     "data": {
      "image/png": "[encoded data removed]",
      "text/plain": [
       "<Figure size 1200x800 with 2 Axes>"
      ]
     },
     "metadata": {},
     "output_type": "display_data"
    }
   ],
   "source": [
    "# Plot correlation matrix\n",
    "plt.figure(figsize=(12, 8))\n",
    "sns.heatmap(employeeAttritionPrediction.corr(), annot=True, fmt=\".2f\")\n",
    "plt.title('Correlation Matrix')\n",
    "plt.show()"
   ]
  },
  {
   "cell_type": "code",
   "execution_count": 142,
   "metadata": {},
   "outputs": [
    {
     "name": "stdout",
     "output_type": "stream",
     "text": [
      "Summary statistics by conversion:\n",
      "                   employee_id  employee_age  employee_gender  department  \\\n",
      "actual_conversion                                                           \n",
      "0                  1907.806452     40.406250        -0.513648   -0.258065   \n",
      "1                  2036.324121     39.888889        -0.560302   -0.321608   \n",
      "\n",
      "                   job_role  monthly_income  years_at_company  \\\n",
      "actual_conversion                                               \n",
      "0                 -0.342432     62955.73201         11.265625   \n",
      "1                 -0.414573    118260.19598         10.634921   \n",
      "\n",
      "                   years_in_current_role  predicted_conversion  \n",
      "actual_conversion                                               \n",
      "0                               5.093750                   1.0  \n",
      "1                               5.444444                   1.0  \n"
     ]
    }
   ],
   "source": [
    "# Summary statistics by conversion\n",
    "conversion_summary = employeeAttritionPrediction.groupby('actual_conversion').mean()\n",
    "print(\"Summary statistics by conversion:\")\n",
    "print(conversion_summary)"
   ]
  },
  {
   "cell_type": "code",
   "execution_count": 143,
   "metadata": {
    "colab": {
     "base_uri": "https://localhost:8080/"
    },
    "executionInfo": {
     "elapsed": 35,
     "status": "ok",
     "timestamp": 1718002213623,
     "user": {
      "displayName": "Ritika Gada",
      "userId": "16686458212324230885"
     },
     "user_tz": -330
    },
    "id": "HQzfJi2MqtQW",
    "outputId": "562a10d0-f09d-455b-d63b-90fbf64b2679"
   },
   "outputs": [],
   "source": [
    "# Extract features and target variable\n",
    "X = employeeAttritionPrediction[['monthly_income']]\n",
    "y = employeeAttritionPrediction['actual_conversion']"
   ]
  },
  {
   "cell_type": "code",
   "execution_count": 144,
   "metadata": {},
   "outputs": [],
   "source": [
    "# Split the data into training and testing sets\n",
    "X_train, X_test, y_train, y_test = train_test_split(X, y, test_size=0.2, random_state=0)\n",
    "\n",
    "# Create and train the logistic regression model\n",
    "model = LogisticRegression()\n",
    "model.fit(X_train, y_train)\n",
    "\n",
    "# Predict the test set results\n",
    "y_pred = model.predict(X_test)"
   ]
  },
  {
   "cell_type": "code",
   "execution_count": 145,
   "metadata": {},
   "outputs": [
    {
     "name": "stdout",
     "output_type": "stream",
     "text": [
      "Confusion Matrix:\n",
      "[[ 0 81]\n",
      " [ 0 80]]\n"
     ]
    }
   ],
   "source": [
    "# Evaluate the model\n",
    "print(\"Confusion Matrix:\")\n",
    "print(confusion_matrix(y_test, y_pred))"
   ]
  },
  {
   "cell_type": "code",
   "execution_count": 146,
   "metadata": {},
   "outputs": [
    {
     "name": "stdout",
     "output_type": "stream",
     "text": [
      "Classification Report:\n",
      "              precision    recall  f1-score   support\n",
      "\n",
      "           0       0.00      0.00      0.00        81\n",
      "           1       0.50      1.00      0.66        80\n",
      "\n",
      "    accuracy                           0.50       161\n",
      "   macro avg       0.25      0.50      0.33       161\n",
      "weighted avg       0.25      0.50      0.33       161\n",
      "\n"
     ]
    },
    {
     "name": "stderr",
     "output_type": "stream",
     "text": [
      "C:\\Users\\subha\\.vscode\\cli\\Lib\\site-packages\\sklearn\\metrics\\_classification.py:1344: UndefinedMetricWarning: Precision and F-score are ill-defined and being set to 0.0 in labels with no predicted samples. Use `zero_division` parameter to control this behavior.\n",
      "  _warn_prf(average, modifier, msg_start, len(result))\n",
      "C:\\Users\\subha\\.vscode\\cli\\Lib\\site-packages\\sklearn\\metrics\\_classification.py:1344: UndefinedMetricWarning: Precision and F-score are ill-defined and being set to 0.0 in labels with no predicted samples. Use `zero_division` parameter to control this behavior.\n",
      "  _warn_prf(average, modifier, msg_start, len(result))\n",
      "C:\\Users\\subha\\.vscode\\cli\\Lib\\site-packages\\sklearn\\metrics\\_classification.py:1344: UndefinedMetricWarning: Precision and F-score are ill-defined and being set to 0.0 in labels with no predicted samples. Use `zero_division` parameter to control this behavior.\n",
      "  _warn_prf(average, modifier, msg_start, len(result))\n",
      "C:\\Users\\subha\\.vscode\\cli\\Lib\\site-packages\\sklearn\\metrics\\_classification.py:1344: UndefinedMetricWarning: Precision and F-score are ill-defined and being set to 0.0 in labels with no predicted samples. Use `zero_division` parameter to control this behavior.\n",
      "  _warn_prf(average, modifier, msg_start, len(result))\n",
      "C:\\Users\\subha\\.vscode\\cli\\Lib\\site-packages\\sklearn\\metrics\\_classification.py:1344: UndefinedMetricWarning: Precision and F-score are ill-defined and being set to 0.0 in labels with no predicted samples. Use `zero_division` parameter to control this behavior.\n",
      "  _warn_prf(average, modifier, msg_start, len(result))\n",
      "C:\\Users\\subha\\.vscode\\cli\\Lib\\site-packages\\sklearn\\metrics\\_classification.py:1344: UndefinedMetricWarning: Precision and F-score are ill-defined and being set to 0.0 in labels with no predicted samples. Use `zero_division` parameter to control this behavior.\n",
      "  _warn_prf(average, modifier, msg_start, len(result))\n"
     ]
    }
   ],
   "source": [
    "print(\"Classification Report:\")\n",
    "class_report = classification_report(y_test, y_pred, output_dict=True)\n",
    "print(classification_report(y_test, y_pred))"
   ]
  },
  {
   "cell_type": "code",
   "execution_count": 147,
   "metadata": {},
   "outputs": [
    {
     "name": "stdout",
     "output_type": "stream",
     "text": [
      "Accuracy Score:\n",
      "0.4968944099378882\n"
     ]
    }
   ],
   "source": [
    "print(\"Accuracy Score:\")\n",
    "accuracy = accuracy_score(y_test, y_pred)\n",
    "print(accuracy)"
   ]
  },
  {
   "cell_type": "code",
   "execution_count": 148,
   "metadata": {},
   "outputs": [],
   "source": [
    "# Save the predictions and evaluation results to a CSV file\n",
    "predictions = pd.DataFrame({\n",
    "    'employee_id': X_test.index,\n",
    "    'actual': y_test,\n",
    "    'predicted': y_pred\n",
    "})"
   ]
  },
  {
   "cell_type": "code",
   "execution_count": 149,
   "metadata": {
    "executionInfo": {
     "elapsed": 33,
     "status": "ok",
     "timestamp": 1718002213624,
     "user": {
      "displayName": "Ritika Gada",
      "userId": "16686458212324230885"
     },
     "user_tz": -330
    },
    "id": "rGF5O6F_q1RN"
   },
   "outputs": [],
   "source": [
    "fin_df = pd.DataFrame()"
   ]
  },
  {
   "cell_type": "code",
   "execution_count": 150,
   "metadata": {
    "executionInfo": {
     "elapsed": 32,
     "status": "ok",
     "timestamp": 1718002213624,
     "user": {
      "displayName": "Ritika Gada",
      "userId": "16686458212324230885"
     },
     "user_tz": -330
    },
    "id": "1R-BA5TXvYNw"
   },
   "outputs": [],
   "source": [
    "fin_df['monthly_income'] = X_test"
   ]
  },
  {
   "cell_type": "code",
   "execution_count": 151,
   "metadata": {},
   "outputs": [],
   "source": [
    "fin_df['actual_conversion'] = y_test"
   ]
  },
  {
   "cell_type": "code",
   "execution_count": 152,
   "metadata": {
    "executionInfo": {
     "elapsed": 31,
     "status": "ok",
     "timestamp": 1718002213624,
     "user": {
      "displayName": "Ritika Gada",
      "userId": "16686458212324230885"
     },
     "user_tz": -330
    },
    "id": "CgCEM80zv8zb"
   },
   "outputs": [],
   "source": [
    "fin_df['predicted_conversion'] = y_pred"
   ]
  },
  {
   "cell_type": "code",
   "execution_count": 153,
   "metadata": {},
   "outputs": [],
   "source": [
    "fin_df['employee_id'] = fin_df.index + 1"
   ]
  },
  {
   "cell_type": "code",
   "execution_count": 154,
   "metadata": {},
   "outputs": [],
   "source": [
    "cols = ['employee_id', 'monthly_income', 'actual_conversion','predicted_conversion']\n",
    "fin_df = fin_df[cols]"
   ]
  },
  {
   "cell_type": "code",
   "execution_count": 155,
   "metadata": {
    "colab": {
     "base_uri": "https://localhost:8080/",
     "height": 206
    },
    "executionInfo": {
     "elapsed": 31,
     "status": "ok",
     "timestamp": 1718002213625,
     "user": {
      "displayName": "Ritika Gada",
      "userId": "16686458212324230885"
     },
     "user_tz": -330
    },
    "id": "jBxNSPfPwGjg",
    "outputId": "d9ba94ef-459f-4365-9922-0fef8e45fdf0",
    "scrolled": true
   },
   "outputs": [
    {
     "data": {
      "text/html": [
       "<div>\n",
       "<style scoped>\n",
       "    .dataframe tbody tr th:only-of-type {\n",
       "        vertical-align: middle;\n",
       "    }\n",
       "\n",
       "    .dataframe tbody tr th {\n",
       "        vertical-align: top;\n",
       "    }\n",
       "\n",
       "    .dataframe thead th {\n",
       "        text-align: right;\n",
       "    }\n",
       "</style>\n",
       "<table border=\"1\" class=\"dataframe\">\n",
       "  <thead>\n",
       "    <tr style=\"text-align: right;\">\n",
       "      <th></th>\n",
       "      <th>employee_id</th>\n",
       "      <th>monthly_income</th>\n",
       "      <th>actual_conversion</th>\n",
       "      <th>predicted_conversion</th>\n",
       "    </tr>\n",
       "  </thead>\n",
       "  <tbody>\n",
       "    <tr>\n",
       "      <th>8</th>\n",
       "      <td>9</td>\n",
       "      <td>108406</td>\n",
       "      <td>1</td>\n",
       "      <td>1</td>\n",
       "    </tr>\n",
       "    <tr>\n",
       "      <th>253</th>\n",
       "      <td>254</td>\n",
       "      <td>105140</td>\n",
       "      <td>1</td>\n",
       "      <td>1</td>\n",
       "    </tr>\n",
       "    <tr>\n",
       "      <th>85</th>\n",
       "      <td>86</td>\n",
       "      <td>51059</td>\n",
       "      <td>0</td>\n",
       "      <td>1</td>\n",
       "    </tr>\n",
       "    <tr>\n",
       "      <th>406</th>\n",
       "      <td>407</td>\n",
       "      <td>98671</td>\n",
       "      <td>1</td>\n",
       "      <td>1</td>\n",
       "    </tr>\n",
       "    <tr>\n",
       "      <th>14</th>\n",
       "      <td>15</td>\n",
       "      <td>69471</td>\n",
       "      <td>0</td>\n",
       "      <td>1</td>\n",
       "    </tr>\n",
       "  </tbody>\n",
       "</table>\n",
       "</div>"
      ],
      "text/plain": [
       "     employee_id  monthly_income  actual_conversion  predicted_conversion\n",
       "8              9          108406                  1                     1\n",
       "253          254          105140                  1                     1\n",
       "85            86           51059                  0                     1\n",
       "406          407           98671                  1                     1\n",
       "14            15           69471                  0                     1"
      ]
     },
     "execution_count": 155,
     "metadata": {},
     "output_type": "execute_result"
    }
   ],
   "source": [
    "fin_df.head()"
   ]
  },
  {
   "cell_type": "code",
   "execution_count": 156,
   "metadata": {},
   "outputs": [
    {
     "data": {
      "text/plain": [
       "161"
      ]
     },
     "execution_count": 156,
     "metadata": {},
     "output_type": "execute_result"
    }
   ],
   "source": [
    "fin_df['employee_id'].count()"
   ]
  },
  {
   "cell_type": "code",
   "execution_count": 157,
   "metadata": {},
   "outputs": [
    {
     "data": {
      "text/plain": [
       "160.0"
      ]
     },
     "execution_count": 157,
     "metadata": {},
     "output_type": "execute_result"
    }
   ],
   "source": [
    "round((employeeAttritionPrediction['actual_conversion'].value_counts().sum())*0.2,0)"
   ]
  },
  {
   "cell_type": "code",
   "execution_count": 158,
   "metadata": {},
   "outputs": [
    {
     "data": {
      "text/plain": [
       "['employee_id',\n",
       " 'employee_age',\n",
       " 'employee_gender',\n",
       " 'department',\n",
       " 'job_role',\n",
       " 'monthly_income',\n",
       " 'years_at_company',\n",
       " 'years_in_current_role',\n",
       " 'actual_conversion',\n",
       " 'predicted_conversion']"
      ]
     },
     "execution_count": 158,
     "metadata": {},
     "output_type": "execute_result"
    }
   ],
   "source": [
    "columns = employeeAttritionPrediction.columns.tolist()\n",
    "columns"
   ]
  },
  {
   "cell_type": "code",
   "execution_count": 159,
   "metadata": {},
   "outputs": [],
   "source": [
    "merged_df = pd.merge(fin_df[['employee_id', 'monthly_income', 'actual_conversion','predicted_conversion']], \n",
    "                     \n",
    "                     employeeAttritionPrediction[['employee_id',\n",
    " 'employee_age',\n",
    " 'employee_gender',\n",
    " 'department',\n",
    " 'job_role',\n",
    " 'years_at_company',\n",
    " 'years_in_current_role']], \n",
    "                     on=\"employee_id\", how=\"left\")"
   ]
  },
  {
   "cell_type": "code",
   "execution_count": 160,
   "metadata": {},
   "outputs": [],
   "source": [
    "cols = ['employee_id',\n",
    " 'employee_age',\n",
    " 'employee_gender',\n",
    " 'department',\n",
    " 'job_role',\n",
    " 'monthly_income',\n",
    " 'years_at_company',\n",
    " 'years_in_current_role',\n",
    " 'actual_conversion',\n",
    "         'predicted_conversion']\n",
    "\n",
    "merged_df = merged_df[cols]"
   ]
  },
  {
   "cell_type": "code",
   "execution_count": 161,
   "metadata": {
    "scrolled": true
   },
   "outputs": [
    {
     "data": {
      "text/html": [
       "<div>\n",
       "<style scoped>\n",
       "    .dataframe tbody tr th:only-of-type {\n",
       "        vertical-align: middle;\n",
       "    }\n",
       "\n",
       "    .dataframe tbody tr th {\n",
       "        vertical-align: top;\n",
       "    }\n",
       "\n",
       "    .dataframe thead th {\n",
       "        text-align: right;\n",
       "    }\n",
       "</style>\n",
       "<table border=\"1\" class=\"dataframe\">\n",
       "  <thead>\n",
       "    <tr style=\"text-align: right;\">\n",
       "      <th></th>\n",
       "      <th>employee_id</th>\n",
       "      <th>employee_age</th>\n",
       "      <th>employee_gender</th>\n",
       "      <th>department</th>\n",
       "      <th>job_role</th>\n",
       "      <th>monthly_income</th>\n",
       "      <th>years_at_company</th>\n",
       "      <th>years_in_current_role</th>\n",
       "      <th>actual_conversion</th>\n",
       "      <th>predicted_conversion</th>\n",
       "    </tr>\n",
       "  </thead>\n",
       "  <tbody>\n",
       "    <tr>\n",
       "      <th>0</th>\n",
       "      <td>9</td>\n",
       "      <td>NaN</td>\n",
       "      <td>NaN</td>\n",
       "      <td>NaN</td>\n",
       "      <td>NaN</td>\n",
       "      <td>108406</td>\n",
       "      <td>NaN</td>\n",
       "      <td>NaN</td>\n",
       "      <td>1</td>\n",
       "      <td>1</td>\n",
       "    </tr>\n",
       "    <tr>\n",
       "      <th>1</th>\n",
       "      <td>254</td>\n",
       "      <td>NaN</td>\n",
       "      <td>-1.0</td>\n",
       "      <td>-1.0</td>\n",
       "      <td>-1.0</td>\n",
       "      <td>105140</td>\n",
       "      <td>NaN</td>\n",
       "      <td>NaN</td>\n",
       "      <td>1</td>\n",
       "      <td>1</td>\n",
       "    </tr>\n",
       "    <tr>\n",
       "      <th>2</th>\n",
       "      <td>86</td>\n",
       "      <td>NaN</td>\n",
       "      <td>-1.0</td>\n",
       "      <td>-1.0</td>\n",
       "      <td>-1.0</td>\n",
       "      <td>51059</td>\n",
       "      <td>NaN</td>\n",
       "      <td>NaN</td>\n",
       "      <td>0</td>\n",
       "      <td>1</td>\n",
       "    </tr>\n",
       "    <tr>\n",
       "      <th>3</th>\n",
       "      <td>407</td>\n",
       "      <td>NaN</td>\n",
       "      <td>NaN</td>\n",
       "      <td>NaN</td>\n",
       "      <td>NaN</td>\n",
       "      <td>98671</td>\n",
       "      <td>NaN</td>\n",
       "      <td>NaN</td>\n",
       "      <td>1</td>\n",
       "      <td>1</td>\n",
       "    </tr>\n",
       "    <tr>\n",
       "      <th>4</th>\n",
       "      <td>15</td>\n",
       "      <td>NaN</td>\n",
       "      <td>-1.0</td>\n",
       "      <td>-1.0</td>\n",
       "      <td>-1.0</td>\n",
       "      <td>69471</td>\n",
       "      <td>NaN</td>\n",
       "      <td>NaN</td>\n",
       "      <td>0</td>\n",
       "      <td>1</td>\n",
       "    </tr>\n",
       "  </tbody>\n",
       "</table>\n",
       "</div>"
      ],
      "text/plain": [
       "   employee_id  employee_age  employee_gender  department  job_role  \\\n",
       "0            9           NaN              NaN         NaN       NaN   \n",
       "1          254           NaN             -1.0        -1.0      -1.0   \n",
       "2           86           NaN             -1.0        -1.0      -1.0   \n",
       "3          407           NaN              NaN         NaN       NaN   \n",
       "4           15           NaN             -1.0        -1.0      -1.0   \n",
       "\n",
       "   monthly_income  years_at_company  years_in_current_role  actual_conversion  \\\n",
       "0          108406               NaN                    NaN                  1   \n",
       "1          105140               NaN                    NaN                  1   \n",
       "2           51059               NaN                    NaN                  0   \n",
       "3           98671               NaN                    NaN                  1   \n",
       "4           69471               NaN                    NaN                  0   \n",
       "\n",
       "   predicted_conversion  \n",
       "0                     1  \n",
       "1                     1  \n",
       "2                     1  \n",
       "3                     1  \n",
       "4                     1  "
      ]
     },
     "execution_count": 161,
     "metadata": {},
     "output_type": "execute_result"
    }
   ],
   "source": [
    "merged_df.head(5)"
   ]
  },
  {
   "cell_type": "code",
   "execution_count": 162,
   "metadata": {
    "executionInfo": {
     "elapsed": 20,
     "status": "ok",
     "timestamp": 1718002213626,
     "user": {
      "displayName": "Ritika Gada",
      "userId": "16686458212324230885"
     },
     "user_tz": -330
    },
    "id": "mkQewRFvwNQs"
   },
   "outputs": [],
   "source": [
    "merged_df.to_csv('employeeAttritionPrediction_output.csv', index=False)"
   ]
  },
  {
   "cell_type": "code",
   "execution_count": 163,
   "metadata": {},
   "outputs": [
    {
     "name": "stdout",
     "output_type": "stream",
     "text": [
      "Confusion Matrix:\n",
      "[[ 0 81]\n",
      " [ 0 80]]\n",
      "Classification Report:\n",
      "              precision    recall  f1-score   support\n",
      "\n",
      "           0       0.00      0.00      0.00        81\n",
      "           1       0.50      1.00      0.66        80\n",
      "\n",
      "    accuracy                           0.50       161\n",
      "   macro avg       0.25      0.50      0.33       161\n",
      "weighted avg       0.25      0.50      0.33       161\n",
      "\n",
      "Accuracy Score:\n",
      "0.4968944099378882\n"
     ]
    },
    {
     "name": "stderr",
     "output_type": "stream",
     "text": [
      "C:\\Users\\subha\\.vscode\\cli\\Lib\\site-packages\\sklearn\\metrics\\_classification.py:1344: UndefinedMetricWarning: Precision and F-score are ill-defined and being set to 0.0 in labels with no predicted samples. Use `zero_division` parameter to control this behavior.\n",
      "  _warn_prf(average, modifier, msg_start, len(result))\n",
      "C:\\Users\\subha\\.vscode\\cli\\Lib\\site-packages\\sklearn\\metrics\\_classification.py:1344: UndefinedMetricWarning: Precision and F-score are ill-defined and being set to 0.0 in labels with no predicted samples. Use `zero_division` parameter to control this behavior.\n",
      "  _warn_prf(average, modifier, msg_start, len(result))\n",
      "C:\\Users\\subha\\.vscode\\cli\\Lib\\site-packages\\sklearn\\metrics\\_classification.py:1344: UndefinedMetricWarning: Precision and F-score are ill-defined and being set to 0.0 in labels with no predicted samples. Use `zero_division` parameter to control this behavior.\n",
      "  _warn_prf(average, modifier, msg_start, len(result))\n",
      "C:\\Users\\subha\\.vscode\\cli\\Lib\\site-packages\\sklearn\\metrics\\_classification.py:1344: UndefinedMetricWarning: Precision and F-score are ill-defined and being set to 0.0 in labels with no predicted samples. Use `zero_division` parameter to control this behavior.\n",
      "  _warn_prf(average, modifier, msg_start, len(result))\n",
      "C:\\Users\\subha\\.vscode\\cli\\Lib\\site-packages\\sklearn\\metrics\\_classification.py:1344: UndefinedMetricWarning: Precision and F-score are ill-defined and being set to 0.0 in labels with no predicted samples. Use `zero_division` parameter to control this behavior.\n",
      "  _warn_prf(average, modifier, msg_start, len(result))\n",
      "C:\\Users\\subha\\.vscode\\cli\\Lib\\site-packages\\sklearn\\metrics\\_classification.py:1344: UndefinedMetricWarning: Precision and F-score are ill-defined and being set to 0.0 in labels with no predicted samples. Use `zero_division` parameter to control this behavior.\n",
      "  _warn_prf(average, modifier, msg_start, len(result))\n"
     ]
    }
   ],
   "source": [
    "# Evaluate the model\n",
    "print(\"Confusion Matrix:\")\n",
    "conf_matrix = confusion_matrix(y_test, y_pred)\n",
    "print(conf_matrix)\n",
    "\n",
    "print(\"Classification Report:\")\n",
    "class_report = classification_report(y_test, y_pred, output_dict=True)\n",
    "print(classification_report(y_test, y_pred))\n",
    "\n",
    "print(\"Accuracy Score:\")\n",
    "accuracy = accuracy_score(y_test, y_pred)\n",
    "print(accuracy)\n",
    "\n",
    "# Save confusion matrix, classification report, and accuracy score to the CSV file\n",
    "conf_matrix_df = pd.DataFrame(conf_matrix, index=['Actual_0', 'Actual_1'], columns=['Predicted_0', 'Predicted_1'])\n",
    "class_report_df = pd.DataFrame(class_report).transpose()\n",
    "evaluation_results = pd.DataFrame({'Metric': ['Accuracy'], 'Score': [accuracy]})"
   ]
  },
  {
   "cell_type": "code",
   "execution_count": 164,
   "metadata": {},
   "outputs": [
    {
     "data": {
      "text/html": [
       "<div>\n",
       "<style scoped>\n",
       "    .dataframe tbody tr th:only-of-type {\n",
       "        vertical-align: middle;\n",
       "    }\n",
       "\n",
       "    .dataframe tbody tr th {\n",
       "        vertical-align: top;\n",
       "    }\n",
       "\n",
       "    .dataframe thead th {\n",
       "        text-align: right;\n",
       "    }\n",
       "</style>\n",
       "<table border=\"1\" class=\"dataframe\">\n",
       "  <thead>\n",
       "    <tr style=\"text-align: right;\">\n",
       "      <th></th>\n",
       "      <th>Predicted_0</th>\n",
       "      <th>Predicted_1</th>\n",
       "    </tr>\n",
       "  </thead>\n",
       "  <tbody>\n",
       "    <tr>\n",
       "      <th>Actual_0</th>\n",
       "      <td>0</td>\n",
       "      <td>81</td>\n",
       "    </tr>\n",
       "    <tr>\n",
       "      <th>Actual_1</th>\n",
       "      <td>0</td>\n",
       "      <td>80</td>\n",
       "    </tr>\n",
       "  </tbody>\n",
       "</table>\n",
       "</div>"
      ],
      "text/plain": [
       "          Predicted_0  Predicted_1\n",
       "Actual_0            0           81\n",
       "Actual_1            0           80"
      ]
     },
     "execution_count": 164,
     "metadata": {},
     "output_type": "execute_result"
    }
   ],
   "source": [
    "conf_matrix_df"
   ]
  },
  {
   "cell_type": "code",
   "execution_count": 165,
   "metadata": {},
   "outputs": [
    {
     "data": {
      "text/html": [
       "<div>\n",
       "<style scoped>\n",
       "    .dataframe tbody tr th:only-of-type {\n",
       "        vertical-align: middle;\n",
       "    }\n",
       "\n",
       "    .dataframe tbody tr th {\n",
       "        vertical-align: top;\n",
       "    }\n",
       "\n",
       "    .dataframe thead th {\n",
       "        text-align: right;\n",
       "    }\n",
       "</style>\n",
       "<table border=\"1\" class=\"dataframe\">\n",
       "  <thead>\n",
       "    <tr style=\"text-align: right;\">\n",
       "      <th></th>\n",
       "      <th>precision</th>\n",
       "      <th>recall</th>\n",
       "      <th>f1-score</th>\n",
       "      <th>support</th>\n",
       "    </tr>\n",
       "  </thead>\n",
       "  <tbody>\n",
       "    <tr>\n",
       "      <th>0</th>\n",
       "      <td>0.000000</td>\n",
       "      <td>0.000000</td>\n",
       "      <td>0.000000</td>\n",
       "      <td>81.000000</td>\n",
       "    </tr>\n",
       "    <tr>\n",
       "      <th>1</th>\n",
       "      <td>0.496894</td>\n",
       "      <td>1.000000</td>\n",
       "      <td>0.663900</td>\n",
       "      <td>80.000000</td>\n",
       "    </tr>\n",
       "    <tr>\n",
       "      <th>accuracy</th>\n",
       "      <td>0.496894</td>\n",
       "      <td>0.496894</td>\n",
       "      <td>0.496894</td>\n",
       "      <td>0.496894</td>\n",
       "    </tr>\n",
       "    <tr>\n",
       "      <th>macro avg</th>\n",
       "      <td>0.248447</td>\n",
       "      <td>0.500000</td>\n",
       "      <td>0.331950</td>\n",
       "      <td>161.000000</td>\n",
       "    </tr>\n",
       "    <tr>\n",
       "      <th>weighted avg</th>\n",
       "      <td>0.246904</td>\n",
       "      <td>0.496894</td>\n",
       "      <td>0.329888</td>\n",
       "      <td>161.000000</td>\n",
       "    </tr>\n",
       "  </tbody>\n",
       "</table>\n",
       "</div>"
      ],
      "text/plain": [
       "              precision    recall  f1-score     support\n",
       "0              0.000000  0.000000  0.000000   81.000000\n",
       "1              0.496894  1.000000  0.663900   80.000000\n",
       "accuracy       0.496894  0.496894  0.496894    0.496894\n",
       "macro avg      0.248447  0.500000  0.331950  161.000000\n",
       "weighted avg   0.246904  0.496894  0.329888  161.000000"
      ]
     },
     "execution_count": 165,
     "metadata": {},
     "output_type": "execute_result"
    }
   ],
   "source": [
    "class_report_df"
   ]
  },
  {
   "cell_type": "code",
   "execution_count": 166,
   "metadata": {},
   "outputs": [
    {
     "data": {
      "text/html": [
       "<div>\n",
       "<style scoped>\n",
       "    .dataframe tbody tr th:only-of-type {\n",
       "        vertical-align: middle;\n",
       "    }\n",
       "\n",
       "    .dataframe tbody tr th {\n",
       "        vertical-align: top;\n",
       "    }\n",
       "\n",
       "    .dataframe thead th {\n",
       "        text-align: right;\n",
       "    }\n",
       "</style>\n",
       "<table border=\"1\" class=\"dataframe\">\n",
       "  <thead>\n",
       "    <tr style=\"text-align: right;\">\n",
       "      <th></th>\n",
       "      <th>Metric</th>\n",
       "      <th>Score</th>\n",
       "    </tr>\n",
       "  </thead>\n",
       "  <tbody>\n",
       "    <tr>\n",
       "      <th>0</th>\n",
       "      <td>Accuracy</td>\n",
       "      <td>0.496894</td>\n",
       "    </tr>\n",
       "  </tbody>\n",
       "</table>\n",
       "</div>"
      ],
      "text/plain": [
       "     Metric     Score\n",
       "0  Accuracy  0.496894"
      ]
     },
     "execution_count": 166,
     "metadata": {},
     "output_type": "execute_result"
    }
   ],
   "source": [
    "evaluation_results"
   ]
  },
  {
   "cell_type": "code",
   "execution_count": 167,
   "metadata": {},
   "outputs": [],
   "source": [
    "# Write to Excel\n",
    "with pd.ExcelWriter('model_evaluation_results_employeeAttritionPrediction.xlsx') as writer:\n",
    "    predictions.to_excel(writer, sheet_name='Predictions', index=False)\n",
    "    conf_matrix_df.to_excel(writer, sheet_name='Confusion_Matrix')\n",
    "    class_report_df.to_excel(writer, sheet_name='Classification_Report')\n",
    "    evaluation_results.to_excel(writer, sheet_name='Accuracy_Score')"
   ]
  },
  {
   "cell_type": "code",
   "execution_count": 168,
   "metadata": {},
   "outputs": [
    {
     "name": "stdout",
     "output_type": "stream",
     "text": [
      "Employee Attrition Prediction Model has been built successfully.\n"
     ]
    }
   ],
   "source": [
    "print(\"Employee Attrition Prediction Model has been built successfully.\")"
   ]
  },
  {
   "cell_type": "code",
   "execution_count": null,
   "metadata": {},
   "outputs": [],
   "source": []
  }
 ],
 "metadata": {
  "colab": {
   "authorship_tag": "ABX9TyMRDMKR61ePKza6wIrasSPG",
   "provenance": []
  },
  "kernelspec": {
   "display_name": "Python 3 (ipykernel)",
   "language": "python",
   "name": "python3"
  },
  "language_info": {
   "codemirror_mode": {
    "name": "ipython",
    "version": 3
   },
   "file_extension": ".py",
   "mimetype": "text/x-python",
   "name": "python",
   "nbconvert_exporter": "python",
   "pygments_lexer": "ipython3",
   "version": "3.11.7"
  }
 },
 "nbformat": 4,
 "nbformat_minor": 4
}
