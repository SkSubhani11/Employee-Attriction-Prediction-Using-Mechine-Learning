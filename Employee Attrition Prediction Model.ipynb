{
 "cells": [
  {
   "cell_type": "code",
   "execution_count": 4,
   "metadata": {
    "colab": {
     "base_uri": "https://localhost:8080/"
    },
    "executionInfo": {
     "elapsed": 9,
     "status": "ok",
     "timestamp": 1718002211935,
     "user": {
      "displayName": "Ritika Gada",
      "userId": "16686458212324230885"
     },
     "user_tz": -330
    },
    "id": "QGGpC2BAqImH",
    "outputId": "19fa5fff-6945-4403-9015-3320359b9642"
   },
   "outputs": [],
   "source": [
    "import pandas as pd\n",
    "import numpy as np\n",
    "import matplotlib.pyplot as plt\n",
    "import seaborn as sns\n",
    "from sklearn.model_selection import train_test_split\n",
    "from sklearn.preprocessing import StandardScaler\n",
    "from sklearn.linear_model import LogisticRegression\n",
    "from sklearn.metrics import classification_report, confusion_matrix, accuracy_score"
   ]
  },
  {
   "cell_type": "code",
   "execution_count": 5,
   "metadata": {},
   "outputs": [],
   "source": [
    "employeeAttritionPrediction = pd.read_csv('employee_attrition_dataset.csv')"
   ]
  },
  {
   "cell_type": "code",
   "execution_count": 6,
   "metadata": {},
   "outputs": [
    {
     "data": {
      "text/plain": [
       "['employee_id',\n",
       " 'employee_age',\n",
       " 'employee_gender',\n",
       " 'department',\n",
       " 'job_role',\n",
       " 'monthly_income',\n",
       " 'years_at_company',\n",
       " 'years_in_current_role',\n",
       " 'attrition']"
      ]
     },
     "execution_count": 6,
     "metadata": {},
     "output_type": "execute_result"
    }
   ],
   "source": [
    "columns = employeeAttritionPrediction.columns.tolist()\n",
    "columns"
   ]
  },
  {
   "cell_type": "code",
   "execution_count": 7,
   "metadata": {},
   "outputs": [],
   "source": [
    "employeeAttritionPrediction.rename(columns={\"attrition\": \"actual_conversion\"}, inplace=True)"
   ]
  },
  {
   "cell_type": "code",
   "execution_count": 8,
   "metadata": {},
   "outputs": [
    {
     "data": {
      "text/plain": [
       "actual_conversion\n",
       "0    10132\n",
       "1     9877\n",
       "Name: count, dtype: int64"
      ]
     },
     "execution_count": 8,
     "metadata": {},
     "output_type": "execute_result"
    }
   ],
   "source": [
    "employeeAttritionPrediction['actual_conversion'].value_counts()"
   ]
  },
  {
   "cell_type": "code",
   "execution_count": 9,
   "metadata": {},
   "outputs": [
    {
     "data": {
      "text/html": [
       "<div>\n",
       "<style scoped>\n",
       "    .dataframe tbody tr th:only-of-type {\n",
       "        vertical-align: middle;\n",
       "    }\n",
       "\n",
       "    .dataframe tbody tr th {\n",
       "        vertical-align: top;\n",
       "    }\n",
       "\n",
       "    .dataframe thead th {\n",
       "        text-align: right;\n",
       "    }\n",
       "</style>\n",
       "<table border=\"1\" class=\"dataframe\">\n",
       "  <thead>\n",
       "    <tr style=\"text-align: right;\">\n",
       "      <th></th>\n",
       "      <th>employee_id</th>\n",
       "      <th>employee_age</th>\n",
       "      <th>employee_gender</th>\n",
       "      <th>department</th>\n",
       "      <th>job_role</th>\n",
       "      <th>monthly_income</th>\n",
       "      <th>years_at_company</th>\n",
       "      <th>years_in_current_role</th>\n",
       "      <th>actual_conversion</th>\n",
       "    </tr>\n",
       "  </thead>\n",
       "  <tbody>\n",
       "    <tr>\n",
       "      <th>0</th>\n",
       "      <td>1001</td>\n",
       "      <td>22</td>\n",
       "      <td>Male</td>\n",
       "      <td>HR</td>\n",
       "      <td>Intern</td>\n",
       "      <td>45796</td>\n",
       "      <td>11</td>\n",
       "      <td>3</td>\n",
       "      <td>0</td>\n",
       "    </tr>\n",
       "    <tr>\n",
       "      <th>1</th>\n",
       "      <td>1002</td>\n",
       "      <td>40</td>\n",
       "      <td>Female</td>\n",
       "      <td>Sales</td>\n",
       "      <td>Associate</td>\n",
       "      <td>30861</td>\n",
       "      <td>12</td>\n",
       "      <td>6</td>\n",
       "      <td>0</td>\n",
       "    </tr>\n",
       "    <tr>\n",
       "      <th>2</th>\n",
       "      <td>1003</td>\n",
       "      <td>64</td>\n",
       "      <td>Male</td>\n",
       "      <td>HR</td>\n",
       "      <td>Manager</td>\n",
       "      <td>133695</td>\n",
       "      <td>14</td>\n",
       "      <td>8</td>\n",
       "      <td>1</td>\n",
       "    </tr>\n",
       "    <tr>\n",
       "      <th>3</th>\n",
       "      <td>1004</td>\n",
       "      <td>48</td>\n",
       "      <td>Male</td>\n",
       "      <td>Engineering</td>\n",
       "      <td>Manager</td>\n",
       "      <td>149880</td>\n",
       "      <td>1</td>\n",
       "      <td>2</td>\n",
       "      <td>1</td>\n",
       "    </tr>\n",
       "    <tr>\n",
       "      <th>4</th>\n",
       "      <td>1005</td>\n",
       "      <td>62</td>\n",
       "      <td>Female</td>\n",
       "      <td>Engineering</td>\n",
       "      <td>Intern</td>\n",
       "      <td>140269</td>\n",
       "      <td>4</td>\n",
       "      <td>7</td>\n",
       "      <td>1</td>\n",
       "    </tr>\n",
       "  </tbody>\n",
       "</table>\n",
       "</div>"
      ],
      "text/plain": [
       "   employee_id  employee_age employee_gender   department   job_role  \\\n",
       "0         1001            22            Male           HR     Intern   \n",
       "1         1002            40          Female        Sales  Associate   \n",
       "2         1003            64            Male           HR    Manager   \n",
       "3         1004            48            Male  Engineering    Manager   \n",
       "4         1005            62          Female  Engineering     Intern   \n",
       "\n",
       "   monthly_income  years_at_company  years_in_current_role  actual_conversion  \n",
       "0           45796                11                      3                  0  \n",
       "1           30861                12                      6                  0  \n",
       "2          133695                14                      8                  1  \n",
       "3          149880                 1                      2                  1  \n",
       "4          140269                 4                      7                  1  "
      ]
     },
     "execution_count": 9,
     "metadata": {},
     "output_type": "execute_result"
    }
   ],
   "source": [
    "employeeAttritionPrediction.head()"
   ]
  },
  {
   "cell_type": "code",
   "execution_count": 10,
   "metadata": {},
   "outputs": [
    {
     "name": "stdout",
     "output_type": "stream",
     "text": [
      "Missing values in the dataset:\n",
      "employee_id              0\n",
      "employee_age             0\n",
      "employee_gender          0\n",
      "department               0\n",
      "job_role                 0\n",
      "monthly_income           0\n",
      "years_at_company         0\n",
      "years_in_current_role    0\n",
      "actual_conversion        0\n",
      "dtype: int64\n"
     ]
    }
   ],
   "source": [
    "# Check for missing values\n",
    "print(\"Missing values in the dataset:\")\n",
    "print(employeeAttritionPrediction.isnull().sum())"
   ]
  },
  {
   "cell_type": "code",
   "execution_count": 11,
   "metadata": {},
   "outputs": [
    {
     "name": "stdout",
     "output_type": "stream",
     "text": [
      "Basic statistics of the dataset:\n",
      "        employee_id  employee_age  monthly_income  years_at_company  \\\n",
      "count  20009.000000  20009.000000    20009.000000      20009.000000   \n",
      "mean   11005.000000     40.593983    89512.770053         10.485931   \n",
      "std     5776.245104     14.114726    34793.784554          5.780687   \n",
      "min     1001.000000     18.000000    30003.000000          1.000000   \n",
      "25%     6003.000000     28.000000    58784.000000          5.000000   \n",
      "50%    11005.000000     40.000000    89495.000000         10.000000   \n",
      "75%    16007.000000     53.000000   119521.000000         15.000000   \n",
      "max    21009.000000     65.000000   149944.000000         20.000000   \n",
      "\n",
      "       years_in_current_role  actual_conversion  \n",
      "count           20009.000000       20009.000000  \n",
      "mean                5.482533           0.493628  \n",
      "std                 2.870107           0.499972  \n",
      "min                 1.000000           0.000000  \n",
      "25%                 3.000000           0.000000  \n",
      "50%                 5.000000           0.000000  \n",
      "75%                 8.000000           1.000000  \n",
      "max                10.000000           1.000000  \n"
     ]
    }
   ],
   "source": [
    "# Display basic statistics of the dataset\n",
    "print(\"Basic statistics of the dataset:\")\n",
    "print(employeeAttritionPrediction.describe())"
   ]
  },
  {
   "cell_type": "code",
   "execution_count": 12,
   "metadata": {},
   "outputs": [
    {
     "name": "stdout",
     "output_type": "stream",
     "text": [
      "Conversion rate in the dataset:\n",
      "actual_conversion\n",
      "0    0.506372\n",
      "1    0.493628\n",
      "Name: proportion, dtype: float64\n"
     ]
    }
   ],
   "source": [
    "# Check for class imbalance\n",
    "print(\"Conversion rate in the dataset:\")\n",
    "print(employeeAttritionPrediction['actual_conversion'].value_counts(normalize=True))\n"
   ]
  },
  {
   "cell_type": "code",
   "execution_count": 13,
   "metadata": {},
   "outputs": [
    {
     "name": "stdout",
     "output_type": "stream",
     "text": [
      "Data types of each column:\n",
      "employee_id               int64\n",
      "employee_age              int64\n",
      "employee_gender          object\n",
      "department               object\n",
      "job_role                 object\n",
      "monthly_income            int64\n",
      "years_at_company          int64\n",
      "years_in_current_role     int64\n",
      "actual_conversion         int64\n",
      "dtype: object\n"
     ]
    }
   ],
   "source": [
    "# Display data types of each column\n",
    "print(\"Data types of each column:\")\n",
    "print(employeeAttritionPrediction.dtypes)"
   ]
  },
  {
   "cell_type": "code",
   "execution_count": 14,
   "metadata": {},
   "outputs": [
    {
     "data": {
      "image/png": "[encoded data removed]",
      "text/plain": [
       "<Figure size 1000x600 with 1 Axes>"
      ]
     },
     "metadata": {},
     "output_type": "display_data"
    }
   ],
   "source": [
    "# Plot the distribution of numeric features\n",
    "plt.figure(figsize=(10, 6))\n",
    "sns.histplot(employeeAttritionPrediction['monthly_income'], kde=True)\n",
    "plt.title('Distribution of Monthly Income')\n",
    "plt.show()"
   ]
  },
  {
   "cell_type": "code",
   "execution_count": 15,
   "metadata": {},
   "outputs": [
    {
     "data": {
      "text/plain": [
       "['employee_id',\n",
       " 'employee_age',\n",
       " 'employee_gender',\n",
       " 'department',\n",
       " 'job_role',\n",
       " 'monthly_income',\n",
       " 'years_at_company',\n",
       " 'years_in_current_role',\n",
       " 'actual_conversion']"
      ]
     },
     "execution_count": 15,
     "metadata": {},
     "output_type": "execute_result"
    }
   ],
   "source": [
    "columns = employeeAttritionPrediction.columns.tolist()\n",
    "columns"
   ]
  },
  {
   "cell_type": "code",
   "execution_count": 19,
   "metadata": {},
   "outputs": [
    {
     "name": "stdout",
     "output_type": "stream",
     "text": [
      "Data types of each column:\n",
      "employee_id              int64\n",
      "employee_age             int64\n",
      "employee_gender           int8\n",
      "department                int8\n",
      "job_role                  int8\n",
      "monthly_income           int64\n",
      "years_at_company         int64\n",
      "years_in_current_role    int64\n",
      "actual_conversion        int64\n",
      "dtype: object\n"
     ]
    }
   ],
   "source": [
    "# Display data types of each column\n",
    "print(\"Data types of each column:\")\n",
    "print(employeeAttritionPrediction.dtypes)"
   ]
  },
  {
   "cell_type": "code",
   "execution_count": 20,
   "metadata": {},
   "outputs": [],
   "source": [
    "# Encode categorical variables\n",
    "employeeAttritionPrediction['employee_gender'] = employeeAttritionPrediction['employee_gender'].astype('category').cat.codes\n",
    "employeeAttritionPrediction['department'] = employeeAttritionPrediction['department'].astype('category').cat.codes\n",
    "employeeAttritionPrediction['job_role'] = employeeAttritionPrediction['job_role'].astype('category').cat.codes\n"
   ]
  },
  {
   "cell_type": "code",
   "execution_count": 21,
   "metadata": {},
   "outputs": [
    {
     "data": {
      "image/png": "[encoded data removed]",
      "text/plain": [
       "<Figure size 1200x800 with 2 Axes>"
      ]
     },
     "metadata": {},
     "output_type": "display_data"
    }
   ],
   "source": [
    "# Plot correlation matrix\n",
    "plt.figure(figsize=(12, 8))\n",
    "sns.heatmap(employeeAttritionPrediction.corr(), annot=True, fmt=\".2f\")\n",
    "plt.title('Correlation Matrix')\n",
    "plt.show()"
   ]
  },
  {
   "cell_type": "code",
   "execution_count": 22,
   "metadata": {},
   "outputs": [
    {
     "name": "stdout",
     "output_type": "stream",
     "text": [
      "Summary statistics by conversion:\n",
      "                    employee_id  employee_age  employee_gender  department  \\\n",
      "actual_conversion                                                            \n",
      "0                  11031.878306     40.838630         0.502171    2.015101   \n",
      "1                  10977.427761     40.343019         0.497115    2.011947   \n",
      "\n",
      "                   job_role  monthly_income  years_at_company  \\\n",
      "actual_conversion                                               \n",
      "0                  1.497335    61159.389360         10.451934   \n",
      "1                  1.493166   118598.165739         10.520806   \n",
      "\n",
      "                   years_in_current_role  \n",
      "actual_conversion                         \n",
      "0                               5.499803  \n",
      "1                               5.464817  \n"
     ]
    }
   ],
   "source": [
    "# Summary statistics by conversion\n",
    "conversion_summary = employeeAttritionPrediction.groupby('actual_conversion').mean()\n",
    "print(\"Summary statistics by conversion:\")\n",
    "print(conversion_summary)"
   ]
  },
  {
   "cell_type": "code",
   "execution_count": 23,
   "metadata": {
    "colab": {
     "base_uri": "https://localhost:8080/"
    },
    "executionInfo": {
     "elapsed": 35,
     "status": "ok",
     "timestamp": 1718002213623,
     "user": {
      "displayName": "Ritika Gada",
      "userId": "16686458212324230885"
     },
     "user_tz": -330
    },
    "id": "HQzfJi2MqtQW",
    "outputId": "562a10d0-f09d-455b-d63b-90fbf64b2679"
   },
   "outputs": [],
   "source": [
    "# Extract features and target variable\n",
    "X = employeeAttritionPrediction[['monthly_income']]\n",
    "y = employeeAttritionPrediction['actual_conversion']"
   ]
  },
  {
   "cell_type": "code",
   "execution_count": 24,
   "metadata": {},
   "outputs": [],
   "source": [
    "# Split the data into training and testing sets\n",
    "X_train, X_test, y_train, y_test = train_test_split(X, y, test_size=0.2, random_state=0)\n",
    "\n",
    "# Create and train the logistic regression model\n",
    "model = LogisticRegression()\n",
    "model.fit(X_train, y_train)\n",
    "\n",
    "# Predict the test set results\n",
    "y_pred = model.predict(X_test)"
   ]
  },
  {
   "cell_type": "code",
   "execution_count": 25,
   "metadata": {},
   "outputs": [
    {
     "name": "stdout",
     "output_type": "stream",
     "text": [
      "Confusion Matrix:\n",
      "[[1994   57]\n",
      " [  50 1901]]\n"
     ]
    }
   ],
   "source": [
    "# Evaluate the model\n",
    "print(\"Confusion Matrix:\")\n",
    "print(confusion_matrix(y_test, y_pred))"
   ]
  },
  {
   "cell_type": "code",
   "execution_count": 26,
   "metadata": {},
   "outputs": [
    {
     "name": "stdout",
     "output_type": "stream",
     "text": [
      "Classification Report:\n",
      "              precision    recall  f1-score   support\n",
      "\n",
      "           0       0.98      0.97      0.97      2051\n",
      "           1       0.97      0.97      0.97      1951\n",
      "\n",
      "    accuracy                           0.97      4002\n",
      "   macro avg       0.97      0.97      0.97      4002\n",
      "weighted avg       0.97      0.97      0.97      4002\n",
      "\n"
     ]
    }
   ],
   "source": [
    "print(\"Classification Report:\")\n",
    "class_report = classification_report(y_test, y_pred, output_dict=True)\n",
    "print(classification_report(y_test, y_pred))"
   ]
  },
  {
   "cell_type": "code",
   "execution_count": 27,
   "metadata": {},
   "outputs": [
    {
     "name": "stdout",
     "output_type": "stream",
     "text": [
      "Accuracy Score:\n",
      "0.973263368315842\n"
     ]
    }
   ],
   "source": [
    "print(\"Accuracy Score:\")\n",
    "accuracy = accuracy_score(y_test, y_pred)\n",
    "print(accuracy)"
   ]
  },
  {
   "cell_type": "code",
   "execution_count": 28,
   "metadata": {},
   "outputs": [],
   "source": [
    "# Save the predictions and evaluation results to a CSV file\n",
    "predictions = pd.DataFrame({\n",
    "    'employee_id': X_test.index,\n",
    "    'actual': y_test,\n",
    "    'predicted': y_pred\n",
    "})"
   ]
  },
  {
   "cell_type": "code",
   "execution_count": 29,
   "metadata": {
    "executionInfo": {
     "elapsed": 33,
     "status": "ok",
     "timestamp": 1718002213624,
     "user": {
      "displayName": "Ritika Gada",
      "userId": "16686458212324230885"
     },
     "user_tz": -330
    },
    "id": "rGF5O6F_q1RN"
   },
   "outputs": [],
   "source": [
    "fin_df = pd.DataFrame()"
   ]
  },
  {
   "cell_type": "code",
   "execution_count": 30,
   "metadata": {
    "executionInfo": {
     "elapsed": 32,
     "status": "ok",
     "timestamp": 1718002213624,
     "user": {
      "displayName": "Ritika Gada",
      "userId": "16686458212324230885"
     },
     "user_tz": -330
    },
    "id": "1R-BA5TXvYNw"
   },
   "outputs": [],
   "source": [
    "fin_df['monthly_income'] = X_test"
   ]
  },
  {
   "cell_type": "code",
   "execution_count": 31,
   "metadata": {},
   "outputs": [],
   "source": [
    "fin_df['actual_conversion'] = y_test"
   ]
  },
  {
   "cell_type": "code",
   "execution_count": 32,
   "metadata": {
    "executionInfo": {
     "elapsed": 31,
     "status": "ok",
     "timestamp": 1718002213624,
     "user": {
      "displayName": "Ritika Gada",
      "userId": "16686458212324230885"
     },
     "user_tz": -330
    },
    "id": "CgCEM80zv8zb"
   },
   "outputs": [],
   "source": [
    "fin_df['predicted_conversion'] = y_pred"
   ]
  },
  {
   "cell_type": "code",
   "execution_count": 33,
   "metadata": {},
   "outputs": [],
   "source": [
    "fin_df['employee_id'] = fin_df.index + 1"
   ]
  },
  {
   "cell_type": "code",
   "execution_count": 34,
   "metadata": {},
   "outputs": [],
   "source": [
    "cols = ['employee_id', 'monthly_income', 'actual_conversion','predicted_conversion']\n",
    "fin_df = fin_df[cols]"
   ]
  },
  {
   "cell_type": "code",
   "execution_count": 35,
   "metadata": {
    "colab": {
     "base_uri": "https://localhost:8080/",
     "height": 206
    },
    "executionInfo": {
     "elapsed": 31,
     "status": "ok",
     "timestamp": 1718002213625,
     "user": {
      "displayName": "Ritika Gada",
      "userId": "16686458212324230885"
     },
     "user_tz": -330
    },
    "id": "jBxNSPfPwGjg",
    "outputId": "d9ba94ef-459f-4365-9922-0fef8e45fdf0",
    "scrolled": true
   },
   "outputs": [
    {
     "data": {
      "text/html": [
       "<div>\n",
       "<style scoped>\n",
       "    .dataframe tbody tr th:only-of-type {\n",
       "        vertical-align: middle;\n",
       "    }\n",
       "\n",
       "    .dataframe tbody tr th {\n",
       "        vertical-align: top;\n",
       "    }\n",
       "\n",
       "    .dataframe thead th {\n",
       "        text-align: right;\n",
       "    }\n",
       "</style>\n",
       "<table border=\"1\" class=\"dataframe\">\n",
       "  <thead>\n",
       "    <tr style=\"text-align: right;\">\n",
       "      <th></th>\n",
       "      <th>employee_id</th>\n",
       "      <th>monthly_income</th>\n",
       "      <th>actual_conversion</th>\n",
       "      <th>predicted_conversion</th>\n",
       "    </tr>\n",
       "  </thead>\n",
       "  <tbody>\n",
       "    <tr>\n",
       "      <th>15439</th>\n",
       "      <td>15440</td>\n",
       "      <td>58879</td>\n",
       "      <td>0</td>\n",
       "      <td>0</td>\n",
       "    </tr>\n",
       "    <tr>\n",
       "      <th>13948</th>\n",
       "      <td>13949</td>\n",
       "      <td>86116</td>\n",
       "      <td>0</td>\n",
       "      <td>0</td>\n",
       "    </tr>\n",
       "    <tr>\n",
       "      <th>16648</th>\n",
       "      <td>16649</td>\n",
       "      <td>83062</td>\n",
       "      <td>0</td>\n",
       "      <td>0</td>\n",
       "    </tr>\n",
       "    <tr>\n",
       "      <th>17809</th>\n",
       "      <td>17810</td>\n",
       "      <td>66742</td>\n",
       "      <td>0</td>\n",
       "      <td>0</td>\n",
       "    </tr>\n",
       "    <tr>\n",
       "      <th>12601</th>\n",
       "      <td>12602</td>\n",
       "      <td>122265</td>\n",
       "      <td>1</td>\n",
       "      <td>1</td>\n",
       "    </tr>\n",
       "  </tbody>\n",
       "</table>\n",
       "</div>"
      ],
      "text/plain": [
       "       employee_id  monthly_income  actual_conversion  predicted_conversion\n",
       "15439        15440           58879                  0                     0\n",
       "13948        13949           86116                  0                     0\n",
       "16648        16649           83062                  0                     0\n",
       "17809        17810           66742                  0                     0\n",
       "12601        12602          122265                  1                     1"
      ]
     },
     "execution_count": 35,
     "metadata": {},
     "output_type": "execute_result"
    }
   ],
   "source": [
    "fin_df.head()"
   ]
  },
  {
   "cell_type": "code",
   "execution_count": 36,
   "metadata": {},
   "outputs": [
    {
     "data": {
      "text/plain": [
       "4002"
      ]
     },
     "execution_count": 36,
     "metadata": {},
     "output_type": "execute_result"
    }
   ],
   "source": [
    "fin_df['employee_id'].count()"
   ]
  },
  {
   "cell_type": "code",
   "execution_count": 37,
   "metadata": {},
   "outputs": [
    {
     "data": {
      "text/plain": [
       "4002.0"
      ]
     },
     "execution_count": 37,
     "metadata": {},
     "output_type": "execute_result"
    }
   ],
   "source": [
    "round((employeeAttritionPrediction['actual_conversion'].value_counts().sum())*0.2,0)"
   ]
  },
  {
   "cell_type": "code",
   "execution_count": 38,
   "metadata": {},
   "outputs": [
    {
     "data": {
      "text/plain": [
       "['employee_id',\n",
       " 'employee_age',\n",
       " 'employee_gender',\n",
       " 'department',\n",
       " 'job_role',\n",
       " 'monthly_income',\n",
       " 'years_at_company',\n",
       " 'years_in_current_role',\n",
       " 'actual_conversion']"
      ]
     },
     "execution_count": 38,
     "metadata": {},
     "output_type": "execute_result"
    }
   ],
   "source": [
    "columns = employeeAttritionPrediction.columns.tolist()\n",
    "columns"
   ]
  },
  {
   "cell_type": "code",
   "execution_count": 39,
   "metadata": {},
   "outputs": [],
   "source": [
    "merged_df = pd.merge(fin_df[['employee_id', 'monthly_income', 'actual_conversion','predicted_conversion']], \n",
    "                     \n",
    "                     employeeAttritionPrediction[['employee_id',\n",
    " 'employee_age',\n",
    " 'employee_gender',\n",
    " 'department',\n",
    " 'job_role',\n",
    " 'years_at_company',\n",
    " 'years_in_current_role']], \n",
    "                     on=\"employee_id\", how=\"left\")"
   ]
  },
  {
   "cell_type": "code",
   "execution_count": 40,
   "metadata": {},
   "outputs": [],
   "source": [
    "cols = ['employee_id',\n",
    " 'employee_age',\n",
    " 'employee_gender',\n",
    " 'department',\n",
    " 'job_role',\n",
    " 'monthly_income',\n",
    " 'years_at_company',\n",
    " 'years_in_current_role',\n",
    " 'actual_conversion',\n",
    "         'predicted_conversion']\n",
    "\n",
    "merged_df = merged_df[cols]"
   ]
  },
  {
   "cell_type": "code",
   "execution_count": 41,
   "metadata": {
    "scrolled": true
   },
   "outputs": [
    {
     "data": {
      "text/html": [
       "<div>\n",
       "<style scoped>\n",
       "    .dataframe tbody tr th:only-of-type {\n",
       "        vertical-align: middle;\n",
       "    }\n",
       "\n",
       "    .dataframe tbody tr th {\n",
       "        vertical-align: top;\n",
       "    }\n",
       "\n",
       "    .dataframe thead th {\n",
       "        text-align: right;\n",
       "    }\n",
       "</style>\n",
       "<table border=\"1\" class=\"dataframe\">\n",
       "  <thead>\n",
       "    <tr style=\"text-align: right;\">\n",
       "      <th></th>\n",
       "      <th>employee_id</th>\n",
       "      <th>employee_age</th>\n",
       "      <th>employee_gender</th>\n",
       "      <th>department</th>\n",
       "      <th>job_role</th>\n",
       "      <th>monthly_income</th>\n",
       "      <th>years_at_company</th>\n",
       "      <th>years_in_current_role</th>\n",
       "      <th>actual_conversion</th>\n",
       "      <th>predicted_conversion</th>\n",
       "    </tr>\n",
       "  </thead>\n",
       "  <tbody>\n",
       "    <tr>\n",
       "      <th>0</th>\n",
       "      <td>15440</td>\n",
       "      <td>48.0</td>\n",
       "      <td>1.0</td>\n",
       "      <td>4.0</td>\n",
       "      <td>1.0</td>\n",
       "      <td>58879</td>\n",
       "      <td>5.0</td>\n",
       "      <td>8.0</td>\n",
       "      <td>0</td>\n",
       "      <td>0</td>\n",
       "    </tr>\n",
       "    <tr>\n",
       "      <th>1</th>\n",
       "      <td>13949</td>\n",
       "      <td>35.0</td>\n",
       "      <td>0.0</td>\n",
       "      <td>0.0</td>\n",
       "      <td>2.0</td>\n",
       "      <td>86116</td>\n",
       "      <td>18.0</td>\n",
       "      <td>2.0</td>\n",
       "      <td>0</td>\n",
       "      <td>0</td>\n",
       "    </tr>\n",
       "    <tr>\n",
       "      <th>2</th>\n",
       "      <td>16649</td>\n",
       "      <td>26.0</td>\n",
       "      <td>1.0</td>\n",
       "      <td>2.0</td>\n",
       "      <td>3.0</td>\n",
       "      <td>83062</td>\n",
       "      <td>8.0</td>\n",
       "      <td>4.0</td>\n",
       "      <td>0</td>\n",
       "      <td>0</td>\n",
       "    </tr>\n",
       "    <tr>\n",
       "      <th>3</th>\n",
       "      <td>17810</td>\n",
       "      <td>18.0</td>\n",
       "      <td>0.0</td>\n",
       "      <td>4.0</td>\n",
       "      <td>1.0</td>\n",
       "      <td>66742</td>\n",
       "      <td>13.0</td>\n",
       "      <td>6.0</td>\n",
       "      <td>0</td>\n",
       "      <td>0</td>\n",
       "    </tr>\n",
       "    <tr>\n",
       "      <th>4</th>\n",
       "      <td>12602</td>\n",
       "      <td>56.0</td>\n",
       "      <td>1.0</td>\n",
       "      <td>4.0</td>\n",
       "      <td>3.0</td>\n",
       "      <td>122265</td>\n",
       "      <td>11.0</td>\n",
       "      <td>8.0</td>\n",
       "      <td>1</td>\n",
       "      <td>1</td>\n",
       "    </tr>\n",
       "  </tbody>\n",
       "</table>\n",
       "</div>"
      ],
      "text/plain": [
       "   employee_id  employee_age  employee_gender  department  job_role  \\\n",
       "0        15440          48.0              1.0         4.0       1.0   \n",
       "1        13949          35.0              0.0         0.0       2.0   \n",
       "2        16649          26.0              1.0         2.0       3.0   \n",
       "3        17810          18.0              0.0         4.0       1.0   \n",
       "4        12602          56.0              1.0         4.0       3.0   \n",
       "\n",
       "   monthly_income  years_at_company  years_in_current_role  actual_conversion  \\\n",
       "0           58879               5.0                    8.0                  0   \n",
       "1           86116              18.0                    2.0                  0   \n",
       "2           83062               8.0                    4.0                  0   \n",
       "3           66742              13.0                    6.0                  0   \n",
       "4          122265              11.0                    8.0                  1   \n",
       "\n",
       "   predicted_conversion  \n",
       "0                     0  \n",
       "1                     0  \n",
       "2                     0  \n",
       "3                     0  \n",
       "4                     1  "
      ]
     },
     "execution_count": 41,
     "metadata": {},
     "output_type": "execute_result"
    }
   ],
   "source": [
    "merged_df.head(5)"
   ]
  },
  {
   "cell_type": "code",
   "execution_count": 42,
   "metadata": {
    "executionInfo": {
     "elapsed": 20,
     "status": "ok",
     "timestamp": 1718002213626,
     "user": {
      "displayName": "Ritika Gada",
      "userId": "16686458212324230885"
     },
     "user_tz": -330
    },
    "id": "mkQewRFvwNQs"
   },
   "outputs": [],
   "source": [
    "merged_df.to_csv('employeeAttritionPrediction_output.csv', index=False)"
   ]
  },
  {
   "cell_type": "code",
   "execution_count": 43,
   "metadata": {},
   "outputs": [
    {
     "name": "stdout",
     "output_type": "stream",
     "text": [
      "Confusion Matrix:\n",
      "[[1994   57]\n",
      " [  50 1901]]\n",
      "Classification Report:\n",
      "              precision    recall  f1-score   support\n",
      "\n",
      "           0       0.98      0.97      0.97      2051\n",
      "           1       0.97      0.97      0.97      1951\n",
      "\n",
      "    accuracy                           0.97      4002\n",
      "   macro avg       0.97      0.97      0.97      4002\n",
      "weighted avg       0.97      0.97      0.97      4002\n",
      "\n",
      "Accuracy Score:\n",
      "0.973263368315842\n"
     ]
    }
   ],
   "source": [
    "# Evaluate the model\n",
    "print(\"Confusion Matrix:\")\n",
    "conf_matrix = confusion_matrix(y_test, y_pred)\n",
    "print(conf_matrix)\n",
    "\n",
    "print(\"Classification Report:\")\n",
    "class_report = classification_report(y_test, y_pred, output_dict=True)\n",
    "print(classification_report(y_test, y_pred))\n",
    "\n",
    "print(\"Accuracy Score:\")\n",
    "accuracy = accuracy_score(y_test, y_pred)\n",
    "print(accuracy)\n",
    "\n",
    "# Save confusion matrix, classification report, and accuracy score to the CSV file\n",
    "conf_matrix_df = pd.DataFrame(conf_matrix, index=['Actual_0', 'Actual_1'], columns=['Predicted_0', 'Predicted_1'])\n",
    "class_report_df = pd.DataFrame(class_report).transpose()\n",
    "evaluation_results = pd.DataFrame({'Metric': ['Accuracy'], 'Score': [accuracy]})"
   ]
  },
  {
   "cell_type": "code",
   "execution_count": 44,
   "metadata": {},
   "outputs": [
    {
     "data": {
      "text/html": [
       "<div>\n",
       "<style scoped>\n",
       "    .dataframe tbody tr th:only-of-type {\n",
       "        vertical-align: middle;\n",
       "    }\n",
       "\n",
       "    .dataframe tbody tr th {\n",
       "        vertical-align: top;\n",
       "    }\n",
       "\n",
       "    .dataframe thead th {\n",
       "        text-align: right;\n",
       "    }\n",
       "</style>\n",
       "<table border=\"1\" class=\"dataframe\">\n",
       "  <thead>\n",
       "    <tr style=\"text-align: right;\">\n",
       "      <th></th>\n",
       "      <th>Predicted_0</th>\n",
       "      <th>Predicted_1</th>\n",
       "    </tr>\n",
       "  </thead>\n",
       "  <tbody>\n",
       "    <tr>\n",
       "      <th>Actual_0</th>\n",
       "      <td>1994</td>\n",
       "      <td>57</td>\n",
       "    </tr>\n",
       "    <tr>\n",
       "      <th>Actual_1</th>\n",
       "      <td>50</td>\n",
       "      <td>1901</td>\n",
       "    </tr>\n",
       "  </tbody>\n",
       "</table>\n",
       "</div>"
      ],
      "text/plain": [
       "          Predicted_0  Predicted_1\n",
       "Actual_0         1994           57\n",
       "Actual_1           50         1901"
      ]
     },
     "execution_count": 44,
     "metadata": {},
     "output_type": "execute_result"
    }
   ],
   "source": [
    "conf_matrix_df"
   ]
  },
  {
   "cell_type": "code",
   "execution_count": 46,
   "metadata": {},
   "outputs": [
    {
     "data": {
      "text/html": [
       "<div>\n",
       "<style scoped>\n",
       "    .dataframe tbody tr th:only-of-type {\n",
       "        vertical-align: middle;\n",
       "    }\n",
       "\n",
       "    .dataframe tbody tr th {\n",
       "        vertical-align: top;\n",
       "    }\n",
       "\n",
       "    .dataframe thead th {\n",
       "        text-align: right;\n",
       "    }\n",
       "</style>\n",
       "<table border=\"1\" class=\"dataframe\">\n",
       "  <thead>\n",
       "    <tr style=\"text-align: right;\">\n",
       "      <th></th>\n",
       "      <th>precision</th>\n",
       "      <th>recall</th>\n",
       "      <th>f1-score</th>\n",
       "      <th>support</th>\n",
       "    </tr>\n",
       "  </thead>\n",
       "  <tbody>\n",
       "    <tr>\n",
       "      <th>0</th>\n",
       "      <td>0.975538</td>\n",
       "      <td>0.972209</td>\n",
       "      <td>0.973871</td>\n",
       "      <td>2051.000000</td>\n",
       "    </tr>\n",
       "    <tr>\n",
       "      <th>1</th>\n",
       "      <td>0.970889</td>\n",
       "      <td>0.974372</td>\n",
       "      <td>0.972627</td>\n",
       "      <td>1951.000000</td>\n",
       "    </tr>\n",
       "    <tr>\n",
       "      <th>accuracy</th>\n",
       "      <td>0.973263</td>\n",
       "      <td>0.973263</td>\n",
       "      <td>0.973263</td>\n",
       "      <td>0.973263</td>\n",
       "    </tr>\n",
       "    <tr>\n",
       "      <th>macro avg</th>\n",
       "      <td>0.973213</td>\n",
       "      <td>0.973290</td>\n",
       "      <td>0.973249</td>\n",
       "      <td>4002.000000</td>\n",
       "    </tr>\n",
       "    <tr>\n",
       "      <th>weighted avg</th>\n",
       "      <td>0.973272</td>\n",
       "      <td>0.973263</td>\n",
       "      <td>0.973264</td>\n",
       "      <td>4002.000000</td>\n",
       "    </tr>\n",
       "  </tbody>\n",
       "</table>\n",
       "</div>"
      ],
      "text/plain": [
       "              precision    recall  f1-score      support\n",
       "0              0.975538  0.972209  0.973871  2051.000000\n",
       "1              0.970889  0.974372  0.972627  1951.000000\n",
       "accuracy       0.973263  0.973263  0.973263     0.973263\n",
       "macro avg      0.973213  0.973290  0.973249  4002.000000\n",
       "weighted avg   0.973272  0.973263  0.973264  4002.000000"
      ]
     },
     "execution_count": 46,
     "metadata": {},
     "output_type": "execute_result"
    }
   ],
   "source": [
    "class_report_df"
   ]
  },
  {
   "cell_type": "code",
   "execution_count": 47,
   "metadata": {},
   "outputs": [
    {
     "data": {
      "text/html": [
       "<div>\n",
       "<style scoped>\n",
       "    .dataframe tbody tr th:only-of-type {\n",
       "        vertical-align: middle;\n",
       "    }\n",
       "\n",
       "    .dataframe tbody tr th {\n",
       "        vertical-align: top;\n",
       "    }\n",
       "\n",
       "    .dataframe thead th {\n",
       "        text-align: right;\n",
       "    }\n",
       "</style>\n",
       "<table border=\"1\" class=\"dataframe\">\n",
       "  <thead>\n",
       "    <tr style=\"text-align: right;\">\n",
       "      <th></th>\n",
       "      <th>Metric</th>\n",
       "      <th>Score</th>\n",
       "    </tr>\n",
       "  </thead>\n",
       "  <tbody>\n",
       "    <tr>\n",
       "      <th>0</th>\n",
       "      <td>Accuracy</td>\n",
       "      <td>0.973263</td>\n",
       "    </tr>\n",
       "  </tbody>\n",
       "</table>\n",
       "</div>"
      ],
      "text/plain": [
       "     Metric     Score\n",
       "0  Accuracy  0.973263"
      ]
     },
     "execution_count": 47,
     "metadata": {},
     "output_type": "execute_result"
    }
   ],
   "source": [
    "evaluation_results"
   ]
  },
  {
   "cell_type": "code",
   "execution_count": 48,
   "metadata": {},
   "outputs": [],
   "source": [
    "# Write to Excel\n",
    "with pd.ExcelWriter('model_evaluation_results_employeeAttritionPrediction.xlsx') as writer:\n",
    "    predictions.to_excel(writer, sheet_name='Predictions', index=False)\n",
    "    conf_matrix_df.to_excel(writer, sheet_name='Confusion_Matrix')\n",
    "    class_report_df.to_excel(writer, sheet_name='Classification_Report')\n",
    "    evaluation_results.to_excel(writer, sheet_name='Accuracy_Score')"
   ]
  },
  {
   "cell_type": "code",
   "execution_count": 49,
   "metadata": {},
   "outputs": [
    {
     "name": "stdout",
     "output_type": "stream",
     "text": [
      "Employee Attrition Prediction Model has been built successfully.\n"
     ]
    }
   ],
   "source": [
    "print(\"Employee Attrition Prediction Model has been built successfully.\")"
   ]
  },
  {
   "cell_type": "code",
   "execution_count": null,
   "metadata": {},
   "outputs": [],
   "source": []
  }
 ],
 "metadata": {
  "colab": {
   "authorship_tag": "ABX9TyMRDMKR61ePKza6wIrasSPG",
   "provenance": []
  },
  "kernelspec": {
   "display_name": "Python 3 (ipykernel)",
   "language": "python",
   "name": "python3"
  },
  "language_info": {
   "codemirror_mode": {
    "name": "ipython",
    "version": 3
   },
   "file_extension": ".py",
   "mimetype": "text/x-python",
   "name": "python",
   "nbconvert_exporter": "python",
   "pygments_lexer": "ipython3",
   "version": "3.11.7"
  }
 },
 "nbformat": 4,
 "nbformat_minor": 4
}
